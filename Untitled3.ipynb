{
 "cells": [
  {
   "cell_type": "code",
   "execution_count": 10,
   "metadata": {},
   "outputs": [
    {
     "name": "stdout",
     "output_type": "stream",
     "text": [
      "for the size: 100 with b-size: 10 | got => 0.0090 seconds\n",
      "for the size: 100 with b-size: 20 | got => 0.0022 seconds\n",
      "for the size: 100 with b-size: 50 | got => 0.0000 seconds\n",
      "for the size: 100 with b-size: 100 | got => 0.0000 seconds\n",
      "for the size: 200 with b-size: 10 | got => 0.1043 seconds\n",
      "for the size: 200 with b-size: 20 | got => 0.0187 seconds\n",
      "for the size: 200 with b-size: 50 | got => 0.0025 seconds\n",
      "for the size: 200 with b-size: 100 | got => 0.0010 seconds\n",
      "for the size: 500 with b-size: 10 | got => 1.3993 seconds\n",
      "for the size: 500 with b-size: 20 | got => 0.2449 seconds\n",
      "for the size: 500 with b-size: 50 | got => 0.0504 seconds\n",
      "for the size: 500 with b-size: 100 | got => 0.0162 seconds\n",
      "for the size: 1000 with b-size: 10 | got => 13.3344 seconds\n",
      "for the size: 1000 with b-size: 20 | got => 2.0943 seconds\n",
      "for the size: 1000 with b-size: 50 | got => 0.4604 seconds\n",
      "for the size: 1000 with b-size: 100 | got => 0.1395 seconds\n"
     ]
    }
   ],
   "source": [
    "import time\n",
    "import numpy as np\n",
    "\n",
    "def multiply_with_blocking(A, B, block_size):\n",
    "    # Ensure the dimensions are compatible for matrix multiplication\n",
    "    assert A.shape[1] == B.shape[0]\n",
    "\n",
    "    # Determine the dimensions of the matrices\n",
    "    m, n = A.shape\n",
    "    p, q = B.shape\n",
    "\n",
    "    # Initialize the result matrix with zeros\n",
    "    C = np.zeros((m, q))\n",
    "\n",
    "    # Perform matrix multiplication with blocking\n",
    "    for i in range(0, m, block_size):\n",
    "        for j in range(0, q, block_size):\n",
    "            for k in range(0, n, block_size):\n",
    "                # Multiply the current block of A with the current block of B\n",
    "                C[i:i+block_size, j:j+block_size] += np.dot(A[i:i+block_size, k:k+block_size], B[k:k+block_size, j:j+block_size])\n",
    "\n",
    "    return C\n",
    "\n",
    "# List of matrix sizes to test\n",
    "matrix_sizes = [100, 200, 500, 1000]\n",
    "\n",
    "# List of blocking sizes to test\n",
    "block_sizes = [10, 20, 50, 100]\n",
    "\n",
    "# Iterate over all combinations of matrix sizes and block sizes\n",
    "matrices = dict()\n",
    "for matrix_size in matrix_sizes:\n",
    "    times = []\n",
    "    for block_size in block_sizes:\n",
    "        # Generate random matrices A and B with the specified size\n",
    "        A = np.random.rand(matrix_size, matrix_size)\n",
    "        B = np.random.rand(matrix_size, matrix_size)\n",
    "\n",
    "        # Measure the time taken to perform matrix multiplication with blocking\n",
    "        start_time = time.time()\n",
    "        C = multiply_with_blocking(A, B, block_size)\n",
    "        end_time = time.time()\n",
    "\n",
    "        # Compute the elapsed time and print the result\n",
    "        elapsed_time = end_time - start_time\n",
    "        print(f\"for the size: {matrix_size} with b-size: {block_size} | got => {elapsed_time:.4f} seconds\")\n",
    "        times.append(elapsed_time)\n",
    "    matrices[str(matrix_size)] = times\n",
    "        "
   ]
  },
  {
   "cell_type": "code",
   "execution_count": 11,
   "metadata": {},
   "outputs": [
    {
     "ename": "KeyError",
     "evalue": "'10000'",
     "output_type": "error",
     "traceback": [
      "\u001b[1;31m---------------------------------------------------------------------------\u001b[0m",
      "\u001b[1;31mKeyError\u001b[0m                                  Traceback (most recent call last)",
      "Input \u001b[1;32mIn [11]\u001b[0m, in \u001b[0;36m<cell line: 10>\u001b[1;34m()\u001b[0m\n\u001b[0;32m      8\u001b[0m plt\u001b[38;5;241m.\u001b[39mplot( block_sizes,matrices[\u001b[38;5;124m\"\u001b[39m\u001b[38;5;124m500\u001b[39m\u001b[38;5;124m\"\u001b[39m], label \u001b[38;5;241m=\u001b[39m \u001b[38;5;124m\"\u001b[39m\u001b[38;5;124m500\u001b[39m\u001b[38;5;124m\"\u001b[39m)\n\u001b[0;32m      9\u001b[0m plt\u001b[38;5;241m.\u001b[39mplot( block_sizes,matrices[\u001b[38;5;124m\"\u001b[39m\u001b[38;5;124m1000\u001b[39m\u001b[38;5;124m\"\u001b[39m], label \u001b[38;5;241m=\u001b[39m \u001b[38;5;124m\"\u001b[39m\u001b[38;5;124m1000\u001b[39m\u001b[38;5;124m\"\u001b[39m)\n\u001b[1;32m---> 10\u001b[0m plt\u001b[38;5;241m.\u001b[39mplot( block_sizes,\u001b[43mmatrices\u001b[49m\u001b[43m[\u001b[49m\u001b[38;5;124;43m\"\u001b[39;49m\u001b[38;5;124;43m10000\u001b[39;49m\u001b[38;5;124;43m\"\u001b[39;49m\u001b[43m]\u001b[49m, label \u001b[38;5;241m=\u001b[39m \u001b[38;5;124m\"\u001b[39m\u001b[38;5;124m10000\u001b[39m\u001b[38;5;124m\"\u001b[39m)\n\u001b[0;32m     11\u001b[0m plt\u001b[38;5;241m.\u001b[39mlegend()\n\u001b[0;32m     12\u001b[0m plt\u001b[38;5;241m.\u001b[39mshow()\n",
      "\u001b[1;31mKeyError\u001b[0m: '10000'"
     ]
    },
    {
     "data": {
      "image/png": "[encoded data removed]",
      "text/plain": [
       "<Figure size 432x288 with 1 Axes>"
      ]
     },
     "metadata": {
      "needs_background": "light"
     },
     "output_type": "display_data"
    }
   ],
   "source": [
    "import matplotlib.pyplot as plt\n",
    "  \n",
    "# create data\n",
    "  \n",
    "# plot lines\n",
    "plt.plot(block_sizes,matrices[\"100\"], label = \"100\")\n",
    "plt.plot( block_sizes,matrices[\"200\"], label = \"200\")\n",
    "plt.plot( block_sizes,matrices[\"500\"], label = \"500\")\n",
    "plt.plot( block_sizes,matrices[\"1000\"], label = \"1000\")\n",
    "plt.plot( block_sizes,matrices[\"10000\"], label = \"10000\")\n",
    "plt.legend()\n",
    "plt.show()"
   ]
  },
  {
   "cell_type": "code",
   "execution_count": null,
   "metadata": {},
   "outputs": [],
   "source": []
  }
 ],
 "metadata": {
  "kernelspec": {
   "display_name": "Python 3 (ipykernel)",
   "language": "python",
   "name": "python3"
  },
  "language_info": {
   "codemirror_mode": {
    "name": "ipython",
    "version": 3
   },
   "file_extension": ".py",
   "mimetype": "text/x-python",
   "name": "python",
   "nbconvert_exporter": "python",
   "pygments_lexer": "ipython3",
   "version": "3.8.5"
  }
 },
 "nbformat": 4,
 "nbformat_minor": 4
}
